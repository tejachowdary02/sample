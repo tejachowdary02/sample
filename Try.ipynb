{
 "cells": [
  {
   "cell_type": "code",
   "execution_count": 1,
   "id": "4d9f8002",
   "metadata": {},
   "outputs": [],
   "source": [
    "import pandas as pd\n",
    "import numpy as np\n",
    "from sklearn.preprocessing import OneHotEncoder\n",
    "from sklearn.model_selection import train_test_split\n",
    "from sklearn.tree import DecisionTreeClassifier\n",
    "from sklearn.svm import SVC\n",
    "from sklearn.linear_model import LogisticRegression\n",
    "from sklearn.metrics import accuracy_score\n",
    "import matplotlib.pyplot as plt\n",
    "from sklearn.metrics import confusion_matrix\n",
    "import seaborn as sns\n"
   ]
  },
  {
   "cell_type": "code",
   "execution_count": 2,
   "id": "05de434d",
   "metadata": {
    "scrolled": false
   },
   "outputs": [
    {
     "data": {
      "text/html": [
       "<div>\n",
       "<style scoped>\n",
       "    .dataframe tbody tr th:only-of-type {\n",
       "        vertical-align: middle;\n",
       "    }\n",
       "\n",
       "    .dataframe tbody tr th {\n",
       "        vertical-align: top;\n",
       "    }\n",
       "\n",
       "    .dataframe thead th {\n",
       "        text-align: right;\n",
       "    }\n",
       "</style>\n",
       "<table border=\"1\" class=\"dataframe\">\n",
       "  <thead>\n",
       "    <tr style=\"text-align: right;\">\n",
       "      <th></th>\n",
       "      <th>Patient ID</th>\n",
       "      <th>Age</th>\n",
       "      <th>Gender</th>\n",
       "      <th>Smiling</th>\n",
       "      <th>Beating</th>\n",
       "      <th>Shouting</th>\n",
       "      <th>Repetitive Behaviour</th>\n",
       "      <th>Sensory</th>\n",
       "      <th>Delayed Speech</th>\n",
       "      <th>Social Interaction</th>\n",
       "      <th>Parents has ASD</th>\n",
       "      <th>Class/ASD</th>\n",
       "    </tr>\n",
       "  </thead>\n",
       "  <tbody>\n",
       "    <tr>\n",
       "      <th>0</th>\n",
       "      <td>1</td>\n",
       "      <td>7</td>\n",
       "      <td>m</td>\n",
       "      <td>0</td>\n",
       "      <td>0</td>\n",
       "      <td>0</td>\n",
       "      <td>0</td>\n",
       "      <td>1</td>\n",
       "      <td>1</td>\n",
       "      <td>0</td>\n",
       "      <td>0</td>\n",
       "      <td>0</td>\n",
       "    </tr>\n",
       "    <tr>\n",
       "      <th>1</th>\n",
       "      <td>2</td>\n",
       "      <td>9</td>\n",
       "      <td>m</td>\n",
       "      <td>0</td>\n",
       "      <td>1</td>\n",
       "      <td>0</td>\n",
       "      <td>1</td>\n",
       "      <td>0</td>\n",
       "      <td>0</td>\n",
       "      <td>1</td>\n",
       "      <td>1</td>\n",
       "      <td>0</td>\n",
       "    </tr>\n",
       "    <tr>\n",
       "      <th>2</th>\n",
       "      <td>3</td>\n",
       "      <td>9</td>\n",
       "      <td>m</td>\n",
       "      <td>1</td>\n",
       "      <td>1</td>\n",
       "      <td>1</td>\n",
       "      <td>1</td>\n",
       "      <td>1</td>\n",
       "      <td>1</td>\n",
       "      <td>1</td>\n",
       "      <td>1</td>\n",
       "      <td>1</td>\n",
       "    </tr>\n",
       "    <tr>\n",
       "      <th>3</th>\n",
       "      <td>4</td>\n",
       "      <td>15</td>\n",
       "      <td>m</td>\n",
       "      <td>0</td>\n",
       "      <td>1</td>\n",
       "      <td>1</td>\n",
       "      <td>0</td>\n",
       "      <td>1</td>\n",
       "      <td>0</td>\n",
       "      <td>1</td>\n",
       "      <td>0</td>\n",
       "      <td>0</td>\n",
       "    </tr>\n",
       "    <tr>\n",
       "      <th>4</th>\n",
       "      <td>5</td>\n",
       "      <td>5</td>\n",
       "      <td>m</td>\n",
       "      <td>1</td>\n",
       "      <td>0</td>\n",
       "      <td>0</td>\n",
       "      <td>0</td>\n",
       "      <td>1</td>\n",
       "      <td>1</td>\n",
       "      <td>0</td>\n",
       "      <td>1</td>\n",
       "      <td>0</td>\n",
       "    </tr>\n",
       "    <tr>\n",
       "      <th>...</th>\n",
       "      <td>...</td>\n",
       "      <td>...</td>\n",
       "      <td>...</td>\n",
       "      <td>...</td>\n",
       "      <td>...</td>\n",
       "      <td>...</td>\n",
       "      <td>...</td>\n",
       "      <td>...</td>\n",
       "      <td>...</td>\n",
       "      <td>...</td>\n",
       "      <td>...</td>\n",
       "      <td>...</td>\n",
       "    </tr>\n",
       "    <tr>\n",
       "      <th>513</th>\n",
       "      <td>514</td>\n",
       "      <td>3</td>\n",
       "      <td>m</td>\n",
       "      <td>1</td>\n",
       "      <td>0</td>\n",
       "      <td>0</td>\n",
       "      <td>1</td>\n",
       "      <td>1</td>\n",
       "      <td>1</td>\n",
       "      <td>0</td>\n",
       "      <td>1</td>\n",
       "      <td>1</td>\n",
       "    </tr>\n",
       "    <tr>\n",
       "      <th>514</th>\n",
       "      <td>515</td>\n",
       "      <td>14</td>\n",
       "      <td>f</td>\n",
       "      <td>0</td>\n",
       "      <td>0</td>\n",
       "      <td>1</td>\n",
       "      <td>1</td>\n",
       "      <td>0</td>\n",
       "      <td>0</td>\n",
       "      <td>0</td>\n",
       "      <td>0</td>\n",
       "      <td>0</td>\n",
       "    </tr>\n",
       "    <tr>\n",
       "      <th>515</th>\n",
       "      <td>516</td>\n",
       "      <td>1</td>\n",
       "      <td>m</td>\n",
       "      <td>0</td>\n",
       "      <td>0</td>\n",
       "      <td>1</td>\n",
       "      <td>0</td>\n",
       "      <td>1</td>\n",
       "      <td>0</td>\n",
       "      <td>1</td>\n",
       "      <td>1</td>\n",
       "      <td>0</td>\n",
       "    </tr>\n",
       "    <tr>\n",
       "      <th>516</th>\n",
       "      <td>517</td>\n",
       "      <td>7</td>\n",
       "      <td>m</td>\n",
       "      <td>0</td>\n",
       "      <td>1</td>\n",
       "      <td>1</td>\n",
       "      <td>0</td>\n",
       "      <td>1</td>\n",
       "      <td>1</td>\n",
       "      <td>1</td>\n",
       "      <td>1</td>\n",
       "      <td>1</td>\n",
       "    </tr>\n",
       "    <tr>\n",
       "      <th>517</th>\n",
       "      <td>518</td>\n",
       "      <td>14</td>\n",
       "      <td>m</td>\n",
       "      <td>0</td>\n",
       "      <td>1</td>\n",
       "      <td>1</td>\n",
       "      <td>0</td>\n",
       "      <td>1</td>\n",
       "      <td>1</td>\n",
       "      <td>1</td>\n",
       "      <td>1</td>\n",
       "      <td>1</td>\n",
       "    </tr>\n",
       "  </tbody>\n",
       "</table>\n",
       "<p>518 rows × 12 columns</p>\n",
       "</div>"
      ],
      "text/plain": [
       "     Patient ID  Age Gender  Smiling  Beating  Shouting  Repetitive Behaviour  \\\n",
       "0             1    7      m        0        0         0                     0   \n",
       "1             2    9      m        0        1         0                     1   \n",
       "2             3    9      m        1        1         1                     1   \n",
       "3             4   15      m        0        1         1                     0   \n",
       "4             5    5      m        1        0         0                     0   \n",
       "..          ...  ...    ...      ...      ...       ...                   ...   \n",
       "513         514    3      m        1        0         0                     1   \n",
       "514         515   14      f        0        0         1                     1   \n",
       "515         516    1      m        0        0         1                     0   \n",
       "516         517    7      m        0        1         1                     0   \n",
       "517         518   14      m        0        1         1                     0   \n",
       "\n",
       "     Sensory  Delayed Speech  Social Interaction  Parents has ASD  Class/ASD  \n",
       "0          1               1                   0                0          0  \n",
       "1          0               0                   1                1          0  \n",
       "2          1               1                   1                1          1  \n",
       "3          1               0                   1                0          0  \n",
       "4          1               1                   0                1          0  \n",
       "..       ...             ...                 ...              ...        ...  \n",
       "513        1               1                   0                1          1  \n",
       "514        0               0                   0                0          0  \n",
       "515        1               0                   1                1          0  \n",
       "516        1               1                   1                1          1  \n",
       "517        1               1                   1                1          1  \n",
       "\n",
       "[518 rows x 12 columns]"
      ]
     },
     "metadata": {},
     "output_type": "display_data"
    }
   ],
   "source": [
    "# Read the dataset\n",
    "inputfile = pd.read_csv('ASD_Patient_Dataset.csv')\n",
    "display(inputfile)\n"
   ]
  },
  {
   "cell_type": "code",
   "execution_count": 3,
   "id": "39cbc210",
   "metadata": {
    "scrolled": true
   },
   "outputs": [
    {
     "name": "stdout",
     "output_type": "stream",
     "text": [
      "Variables used in the Dataset\n",
      "<class 'pandas.core.frame.DataFrame'>\n",
      "RangeIndex: 518 entries, 0 to 517\n",
      "Data columns (total 12 columns):\n",
      " #   Column                Non-Null Count  Dtype \n",
      "---  ------                --------------  ----- \n",
      " 0   Patient ID            518 non-null    int64 \n",
      " 1   Age                   518 non-null    int64 \n",
      " 2   Gender                518 non-null    object\n",
      " 3   Smiling               518 non-null    int64 \n",
      " 4   Beating               518 non-null    int64 \n",
      " 5   Shouting              518 non-null    int64 \n",
      " 6   Repetitive Behaviour  518 non-null    int64 \n",
      " 7   Sensory               518 non-null    int64 \n",
      " 8   Delayed Speech        518 non-null    int64 \n",
      " 9   Social Interaction    518 non-null    int64 \n",
      " 10  Parents has ASD       518 non-null    int64 \n",
      " 11  Class/ASD             518 non-null    int64 \n",
      "dtypes: int64(11), object(1)\n",
      "memory usage: 48.7+ KB\n"
     ]
    },
    {
     "data": {
      "text/plain": [
       "None"
      ]
     },
     "metadata": {},
     "output_type": "display_data"
    }
   ],
   "source": [
    "print(\"Variables used in the Dataset\")\n",
    "display(inputfile.info())"
   ]
  },
  {
   "cell_type": "code",
   "execution_count": 4,
   "id": "0ca916ce",
   "metadata": {},
   "outputs": [
    {
     "data": {
      "image/png": "[encoded data removed]",
      "text/plain": [
       "<Figure size 640x480 with 1 Axes>"
      ]
     },
     "metadata": {},
     "output_type": "display_data"
    }
   ],
   "source": [
    "#graph of 0 (No ASD) and 1 (ASD) number of records found in dataset\n",
    "label = inputfile.groupby('Class/ASD').size()\n",
    "label.plot(kind=\"bar\")\n",
    "plt.title(\"ASD Count Plot\")\n",
    "plt.rcParams[\"figure.figsize\"]= [6,4]\n",
    "plt.show()"
   ]
  },
  {
   "cell_type": "code",
   "execution_count": 17,
   "id": "bf972c9f",
   "metadata": {},
   "outputs": [],
   "source": [
    "# Step 3: Define x (input columns) and y (output column)\n",
    "numeric_columns = ['Age', 'Smiling','Beating', 'Shouting', 'Repetitive Behaviour', 'Sensory', 'Delayed Speech', 'Social Interaction', 'Parents has ASD' ]\n",
    "categorical_columns = ['Gender']\n",
    "x = inputfile[numeric_columns + categorical_columns]\n",
    "y = inputfile['Class/ASD']\n"
   ]
  },
  {
   "cell_type": "code",
   "execution_count": 18,
   "id": "0912ac6d",
   "metadata": {},
   "outputs": [
    {
     "name": "stdout",
     "output_type": "stream",
     "text": [
      "Shape of numeric data: (518, 9)\n",
      "Shape of categorical encoded data: (518, 2)\n",
      "Shape of x after combining: (518, 11)\n",
      "Dataset Size : 518\n"
     ]
    }
   ],
   "source": [
    "# Step 4: Separate numeric and categorical data\n",
    "numeric_data = x[numeric_columns].values\n",
    "categorical_data = x[categorical_columns]\n",
    "\n",
    "# Apply one-hot encoding to categorical columns\n",
    "encoder = OneHotEncoder(sparse=False, handle_unknown='ignore')\n",
    "categorical_encoded = encoder.fit_transform(categorical_data)\n",
    "\n",
    "# Combine numeric and encoded categorical data\n",
    "x_combined = np.hstack([numeric_data, categorical_encoded])\n",
    "print(\"Shape of numeric data:\", numeric_data.shape)\n",
    "print(\"Shape of categorical encoded data:\", categorical_encoded.shape)\n",
    "print(\"Shape of x after combining:\", x_combined.shape)\n",
    "\n",
    "#displaying traing and test size\n",
    "print(\"Dataset Size : \"+str(x_combined.shape[0]))\n",
    "\n"
   ]
  },
  {
   "cell_type": "code",
   "execution_count": 19,
   "id": "64b47508",
   "metadata": {},
   "outputs": [
    {
     "name": "stdout",
     "output_type": "stream",
     "text": [
      "Dataset Size : 518\n",
      "Training Size : 414\n",
      "Testing Size : 104\n"
     ]
    }
   ],
   "source": [
    "# Step 5: Split the data into training and testing sets\n",
    "x_train, x_test, y_train, y_test = train_test_split(x_combined, y, test_size=0.2, random_state=42)\n",
    "#displaying traing and test size\n",
    "print(\"Dataset Size : \"+str(x_combined.shape[0]))\n",
    "print(\"Training Size : \"+str(x_train.shape[0]))\n",
    "print(\"Testing Size : \"+str(x_test.shape[0]))"
   ]
  },
  {
   "cell_type": "code",
   "execution_count": 20,
   "id": "41644bcd",
   "metadata": {},
   "outputs": [],
   "source": [
    "#function to calculate all metrics \n",
    "def calculateMetrics(algorithm, predict, y_test):\n",
    "    a = accuracy_score(y_test,predict)*100\n",
    "    #accuracy.append(a)\n",
    "    print(algorithm+\" Accuracy  :  \"+str(a))\n",
    "    \n",
    "    labels = [\"No\", \"Yes\"]\n",
    "    conf_matrix = confusion_matrix(y_test, predict) \n",
    "    #plt.figure(figsize =(6, 6)) \n",
    "    ax = sns.heatmap(conf_matrix, xticklabels = labels, yticklabels = labels, annot = True, cmap=\"viridis\" ,fmt =\"g\");\n",
    "    ax.set_ylim([0,len(labels)])\n",
    "    plt.title(algorithm+\" Confusion matrix\") \n",
    "    plt.ylabel('True class') \n",
    "    plt.xlabel('Predicted class') \n",
    "    plt.show()"
   ]
  },
  {
   "cell_type": "code",
   "execution_count": 21,
   "id": "4ed82d46",
   "metadata": {},
   "outputs": [
    {
     "name": "stdout",
     "output_type": "stream",
     "text": [
      "Decision Tree Accuracy  :  79.8076923076923\n"
     ]
    },
    {
     "data": {
      "image/png": "[encoded data removed]",
      "text/plain": [
       "<Figure size 600x400 with 2 Axes>"
      ]
     },
     "metadata": {},
     "output_type": "display_data"
    }
   ],
   "source": [
    "# Step 6: Train models and evaluate performance\n",
    "# Decision Tree\n",
    "dt_model = DecisionTreeClassifier(random_state=42)\n",
    "dt_model.fit(x_train, y_train)\n",
    "dt_accuracy = accuracy_score(y_test, dt_model.predict(x_test))\n",
    "predict= dt_model.predict(x_test)\n",
    "calculateMetrics(\"Decision Tree\", predict, y_test)"
   ]
  },
  {
   "cell_type": "code",
   "execution_count": 22,
   "id": "ea94cdd1",
   "metadata": {},
   "outputs": [
    {
     "name": "stdout",
     "output_type": "stream",
     "text": [
      "Support Vector Machine Accuracy  :  78.84615384615384\n"
     ]
    },
    {
     "data": {
      "image/png": "[encoded data removed]",
      "text/plain": [
       "<Figure size 600x400 with 2 Axes>"
      ]
     },
     "metadata": {},
     "output_type": "display_data"
    }
   ],
   "source": [
    "# Support Vector Machine\n",
    "svm_model = SVC(random_state=42)\n",
    "svm_model.fit(x_train, y_train)\n",
    "predict= svm_model.predict(x_test)\n",
    "svm_accuracy = accuracy_score(y_test,svm_model.predict(x_test))\n",
    "calculateMetrics(\"Support Vector Machine\", predict, y_test)"
   ]
  },
  {
   "cell_type": "code",
   "execution_count": 23,
   "id": "62a440b9",
   "metadata": {
    "scrolled": true
   },
   "outputs": [
    {
     "name": "stdout",
     "output_type": "stream",
     "text": [
      "Logistic Regression Accuracy  :  100.0\n"
     ]
    },
    {
     "data": {
      "image/png": "[encoded data removed]",
      "text/plain": [
       "<Figure size 600x400 with 2 Axes>"
      ]
     },
     "metadata": {},
     "output_type": "display_data"
    }
   ],
   "source": [
    "\n",
    "# Logistic Regression\n",
    "lr_model = LogisticRegression(random_state=42, max_iter=1000)\n",
    "lr_model.fit(x_train, y_train)\n",
    "lr_accuracy = accuracy_score(y_test, lr_model.predict(x_test))\n",
    "predict=lr_model.predict(x_test)\n",
    "calculateMetrics(\"Logistic Regression\", predict, y_test)"
   ]
  },
  {
   "cell_type": "code",
   "execution_count": 24,
   "id": "b51302b1",
   "metadata": {},
   "outputs": [
    {
     "name": "stdout",
     "output_type": "stream",
     "text": [
      "Model Accuracies: {'Decision Tree': 0.7980769230769231, 'SVM': 0.7884615384615384, 'Logistic Regression': 1.0}\n"
     ]
    },
    {
     "data": {
      "image/png": "[encoded data removed]",
      "text/plain": [
       "<Figure size 600x400 with 1 Axes>"
      ]
     },
     "metadata": {},
     "output_type": "display_data"
    }
   ],
   "source": [
    "\n",
    "\n",
    "# Step 7: Compare accuracies\n",
    "accuracies = {'Decision Tree': dt_accuracy, 'SVM': svm_accuracy, 'Logistic Regression': lr_accuracy}\n",
    "print(\"Model Accuracies:\", accuracies)\n",
    "\n",
    "# Plot the comparison bar graph\n",
    "plt.bar(accuracies.keys(), accuracies.values(), color=['blue', 'green', 'orange'])\n",
    "plt.title('Model Accuracy Comparison')\n",
    "plt.ylabel('Accuracy')\n",
    "plt.show()\n"
   ]
  },
  {
   "cell_type": "code",
   "execution_count": 28,
   "id": "57521553",
   "metadata": {},
   "outputs": [
    {
     "name": "stdout",
     "output_type": "stream",
     "text": [
      "Best Model: Logistic Regression\n",
      "Enter age: 5\n",
      "Enter gender (m/f): f\n",
      "Smiling? (0/1): 1\n",
      "Beating? (0/1): 1\n",
      "Shouting? (0/1): 1\n",
      "Repetitive Behaviour? (0/1): 1\n",
      "Sensory? (0/1): 1\n",
      "Delayed Speech? (0/1): 0\n",
      "Social Interaction? (0/1): 0\n",
      "Parents has ASD? (0/1): 0\n",
      "ASD Prediction: ASD\n"
     ]
    }
   ],
   "source": [
    "\n",
    "# Step 8: Use the best model for prediction\n",
    "best_model = max(accuracies, key=accuracies.get)\n",
    "print(f\"Best Model: {best_model}\")\n",
    "\n",
    "# Take user input for prediction\n",
    "user_input = {\n",
    "    'Age': float(input(\"Enter age: \")),\n",
    "    'Gender': input(\"Enter gender (m/f): \"),\n",
    "    'Smiling': float(input(\"Smiling? (0/1): \")),\n",
    "    'Beating': float(input(\"Beating? (0/1): \")),\n",
    "    'Shouting': float(input(\"Shouting? (0/1): \")),\n",
    "    'Repetitive Behaviour': float(input(\"Repetitive Behaviour? (0/1): \")),\n",
    "    'Sensory': float(input(\"Sensory? (0/1): \")),\n",
    "    'Delayed Speech': float(input(\"Delayed Speech? (0/1): \")),\n",
    "    'Social Interaction': float(input(\"Social Interaction? (0/1): \")),\n",
    "    'Parents has ASD': float(input(\"Parents has ASD? (0/1): \")),\n",
    "\n",
    "}\n",
    "\n",
    "# Prepare user data for prediction\n",
    "user_df = pd.DataFrame([user_input])\n",
    "numeric_user_data = user_df[numeric_columns].values\n",
    "categorical_user_data = user_df[categorical_columns]\n",
    "user_categorical_encoded = encoder.transform(categorical_user_data)\n",
    "user_combined = np.hstack([numeric_user_data, user_categorical_encoded])\n",
    "\n",
    "# Predict using the best model\n",
    "if best_model == 'Decision Tree':\n",
    "    prediction = dt_model.predict(user_combined)\n",
    "elif best_model == 'SVM':\n",
    "    prediction = svm_model.predict(user_combined)\n",
    "elif best_model == 'Logistic Regression':\n",
    "    prediction = lr_model.predict(user_combined)\n",
    "\n",
    "print(\"ASD Prediction:\", \"ASD\" if prediction[0] == 1 else \"NO ASD\")\n"
   ]
  },
  {
   "cell_type": "markdown",
   "id": "06045d4d",
   "metadata": {},
   "source": [
    "#"
   ]
  }
 ],
 "metadata": {
  "kernelspec": {
   "display_name": "Python 3 (ipykernel)",
   "language": "python",
   "name": "python3"
  },
  "language_info": {
   "codemirror_mode": {
    "name": "ipython",
    "version": 3
   },
   "file_extension": ".py",
   "mimetype": "text/x-python",
   "name": "python",
   "nbconvert_exporter": "python",
   "pygments_lexer": "ipython3",
   "version": "3.9.13"
  }
 },
 "nbformat": 4,
 "nbformat_minor": 5
}
